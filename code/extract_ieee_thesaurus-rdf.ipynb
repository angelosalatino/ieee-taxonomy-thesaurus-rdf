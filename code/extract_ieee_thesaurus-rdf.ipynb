{
 "cells": [
  {
   "cell_type": "markdown",
   "id": "0665697f-c008-48a0-ab66-f564f5f697de",
   "metadata": {},
   "source": [
    "# Installing needed Libraris"
   ]
  },
  {
   "cell_type": "markdown",
   "id": "33b00fdd-9311-4126-92f4-61cc571cfcd1",
   "metadata": {},
   "source": [
    "##### This will install rdflib to create the rdf version of the IEEE Thesaurus"
   ]
  },
  {
   "cell_type": "code",
   "execution_count": null,
   "id": "d0082e93-aa37-4fc7-a8e1-50671a879c9e",
   "metadata": {},
   "outputs": [],
   "source": [
    "!pip install rdflib==7.0.0"
   ]
  },
  {
   "cell_type": "markdown",
   "id": "cc37e965-0d91-4d2d-9726-14f9d96b6809",
   "metadata": {},
   "source": [
    "# Importing"
   ]
  },
  {
   "cell_type": "code",
   "execution_count": 1,
   "id": "77c7f788-d27e-4b3c-b376-7f5de49abb2d",
   "metadata": {},
   "outputs": [],
   "source": [
    "import csv\n",
    "from rdflib import Graph, Namespace, URIRef, Literal\n",
    "from rdflib.namespace import RDF, SKOS, RDFS"
   ]
  },
  {
   "cell_type": "markdown",
   "id": "c597ee4a-0dbd-4442-97ce-56cfb6a42ae1",
   "metadata": {},
   "source": [
    "# Functions"
   ]
  },
  {
   "cell_type": "code",
   "execution_count": 2,
   "id": "b81eb013-c335-4f9b-9cc6-20d54bd23cc3",
   "metadata": {},
   "outputs": [],
   "source": [
    "def lower_case(subject:str, object:str)->str:\n",
    "    return subject.lower(), object.lower()\n",
    "\n",
    "def replace_space(subject:str, object:str) -> str:\n",
    "    return subject.replace(' ', '_'), object.replace(' ', '_')\n",
    "\n",
    "def replace_double_space(subject:str, object:str) -> str:\n",
    "    return subject.replace('  ', ' '), object.replace('  ', ' ')\n",
    "    \n",
    "def eliminate_comma(subject:str, object:str) -> str:\n",
    "    return subject.replace(',', '_'), object.replace(',', '_')\n",
    "\n",
    "def eliminate_dot(subject:str, object:str) -> str:\n",
    "    return subject.replace('.', '_'), object.replace('.', '_')"
   ]
  },
  {
   "cell_type": "markdown",
   "id": "963fa06d-50e2-48be-9fff-7473b58c59a8",
   "metadata": {},
   "source": [
    "# Assigning Schema URI"
   ]
  },
  {
   "cell_type": "code",
   "execution_count": 3,
   "id": "689a6153-af48-4ac8-8dde-6451f346b95e",
   "metadata": {},
   "outputs": [],
   "source": [
    "topics_uri = Namespace('https://ieee-thesaurus.org/')"
   ]
  },
  {
   "cell_type": "markdown",
   "id": "5280efb2-6cba-46ee-8205-370370c69a49",
   "metadata": {},
   "source": [
    "# Creating RDF"
   ]
  },
  {
   "cell_type": "code",
   "execution_count": 4,
   "id": "6f026f1d-6383-49f8-b1f0-aea724cf9a89",
   "metadata": {},
   "outputs": [],
   "source": [
    "def ieee_thesaurus_rdf(thesaurus_csv_file):\n",
    "    g = Graph()\n",
    "\n",
    "    with open(thesaurus_csv_file, 'r', newline='', encoding='utf-8') as f:\n",
    "        reader = csv.DictReader(f)\n",
    "        \n",
    "        for row in reader:\n",
    "            subject = row.get('subject', '')\n",
    "            predicate = row.get('predicate', '')\n",
    "            obj = row.get('object', '')\n",
    "\n",
    "            __subject, __obj = replace_double_space(subject, obj)\n",
    "\n",
    "            subject_trim, obj_trim = eliminate_dot(*eliminate_comma(*replace_space(*lower_case(__subject, __obj))))\n",
    "\n",
    "            \n",
    "            subject_uri = URIRef(f\"{topics_uri}{subject_trim}\")\n",
    "            object_uri = URIRef(f\"{topics_uri}{obj_trim}\")\n",
    "\n",
    "            g.add((subject_uri, RDF.type, SKOS.Concept))\n",
    "            g.add((object_uri, RDF.type, SKOS.Concept))\n",
    "\n",
    "            g.add((subject_uri, RDFS.label, Literal(__subject)))\n",
    "            g.add((object_uri, RDFS.label, Literal(__obj)))\n",
    "\n",
    "            if predicate == 'BT':\n",
    "                g.add((subject_uri, SKOS.broader, object_uri))\n",
    "            elif predicate == 'NT':\n",
    "                g.add((subject_uri, SKOS.narrower, object_uri))\n",
    "            elif predicate == 'RT':\n",
    "                g.add((subject_uri, SKOS.related, object_uri))\n",
    "            elif predicate == 'USE':\n",
    "                g.add((subject_uri, SKOS.prefLabel, object_uri))\n",
    "            elif predicate == 'UF':\n",
    "                g.add((subject_uri, SKOS.altLabel, object_uri))\n",
    "                g.add((object_uri, SKOS.prefLabel, subject_uri))\n",
    "            else:\n",
    "                pass\n",
    "\n",
    "    return g"
   ]
  },
  {
   "cell_type": "code",
   "execution_count": 5,
   "id": "b5d119d3-a910-464d-9920-c179d1f193b8",
   "metadata": {},
   "outputs": [],
   "source": [
    "thesaurus_csv_path = './source/cleaned_ieee_thesaurus_2023.csv'"
   ]
  },
  {
   "cell_type": "code",
   "execution_count": 6,
   "id": "03812b86-8002-41e7-bd02-109b5bf9bd3c",
   "metadata": {},
   "outputs": [],
   "source": [
    "graph = ieee_thesaurus_rdf(thesaurus_csv_path)"
   ]
  },
  {
   "cell_type": "code",
   "execution_count": 2,
   "id": "e42b6ad3-1951-42ad-b999-edebf7267e78",
   "metadata": {},
   "outputs": [
    {
     "name": "stdout",
     "output_type": "stream",
     "text": [
      "--- Printing RDF Versions ---\n"
     ]
    }
   ],
   "source": [
    "print('--- Printing RDF Versions ---')\n",
    "graph.serialize(destination='./rdf/ieee-thesaurus.xml', format='xml')\n",
    "graph.serialize(destination='./rdf/ieee-thesaurus.ttl', format='turtle')\n",
    "graph.serialize(destination='./rdf/ieee-thesaurus.nt', format='nt')"
   ]
  },
  {
   "cell_type": "code",
   "execution_count": 9,
   "id": "63ab331f-29e2-466b-a89c-d138debfc261",
   "metadata": {},
   "outputs": [],
   "source": [
    "# graph.serialize(destination='./rdf/ieee-thesaurus.jsonld', format='json-ld', indent=4)"
   ]
  }
 ],
 "metadata": {
  "kernelspec": {
   "display_name": "Python 3 (ipykernel)",
   "language": "python",
   "name": "python3"
  },
  "language_info": {
   "codemirror_mode": {
    "name": "ipython",
    "version": 3
   },
   "file_extension": ".py",
   "mimetype": "text/x-python",
   "name": "python",
   "nbconvert_exporter": "python",
   "pygments_lexer": "ipython3",
   "version": "3.12.0"
  }
 },
 "nbformat": 4,
 "nbformat_minor": 5
}
