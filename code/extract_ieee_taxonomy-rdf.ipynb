{
 "cells": [
  {
   "cell_type": "markdown",
   "id": "c58fd3f9-9943-4fc8-a5de-5c06b348150b",
   "metadata": {},
   "source": [
    "# Installing needed Libraries"
   ]
  },
  {
   "cell_type": "markdown",
   "id": "1831d7b2-9702-43c1-8104-cbc3c744a12e",
   "metadata": {},
   "source": [
    "##### This will install rdflib to create the rdf version of the IEEE Taxonomy"
   ]
  },
  {
   "cell_type": "code",
   "execution_count": null,
   "id": "a48fa47a-f270-41e7-af99-dd652ffe7a3f",
   "metadata": {},
   "outputs": [],
   "source": [
    "!pip install rdflib==6.3.1"
   ]
  },
  {
   "cell_type": "markdown",
   "id": "d8310637-f609-4ae3-99bd-ba292e4f828e",
   "metadata": {},
   "source": [
    "##### This will install PyPDF2 to extract text from IEEE Taxonomy PDF file\n",
    "\n",
    "###### Note: After extracting the text from IEEE Taxonomy PDF file it has been manually analysed to eliminate any possible erros and to obtain a clean text file of IEEE Taxonomy"
   ]
  },
  {
   "cell_type": "code",
   "execution_count": null,
   "id": "a3ce3881-9d0e-495d-9c96-34f6e255039e",
   "metadata": {},
   "outputs": [],
   "source": [
    "!pip install PyPDF2==3.0.1"
   ]
  },
  {
   "cell_type": "markdown",
   "id": "fdadf29e-dd70-4851-bc17-735d21839849",
   "metadata": {},
   "source": [
    "# Importing"
   ]
  },
  {
   "cell_type": "code",
   "execution_count": 20,
   "id": "dd864a56-be84-4a07-b0d8-7bfdc0672714",
   "metadata": {},
   "outputs": [],
   "source": [
    "import re\n",
    "import json\n",
    "import urllib3\n",
    "import urllib.parse\n",
    "from PyPDF2 import PdfReader\n",
    "from collections import defaultdict\n",
    "from rdflib import Graph, Literal, RDF, URIRef, Namespace, RDFS, namespace\n",
    "from rdflib.namespace import FOAF, XSD, SKOS, OWL, RDFS"
   ]
  },
  {
   "cell_type": "markdown",
   "id": "c8db8da5-261e-4992-bdcc-d669dd493473",
   "metadata": {},
   "source": [
    "#### Processing IEEE Taxonomy PDF File and extracting text from it"
   ]
  },
  {
   "cell_type": "code",
   "execution_count": 24,
   "id": "a900c4a7-8f15-485a-84fa-a30a6716929b",
   "metadata": {},
   "outputs": [],
   "source": [
    "input_file = 'Path to IEEE Taxonomy PDF File'"
   ]
  },
  {
   "cell_type": "code",
   "execution_count": 5,
   "id": "749c34eb-31de-4d01-8a9a-46b046a6147b",
   "metadata": {},
   "outputs": [],
   "source": [
    "reader = PdfReader(input_file)"
   ]
  },
  {
   "cell_type": "code",
   "execution_count": 6,
   "id": "9072ea7c-6f75-4d3c-90a3-e478ce7ba235",
   "metadata": {},
   "outputs": [],
   "source": [
    "text = \"\"\n",
    "\n",
    "for page in reader.pages:\n",
    "    text += page.extract_text() + \"\\n\""
   ]
  },
  {
   "cell_type": "code",
   "execution_count": 33,
   "id": "1c71e3be-9866-4cf5-8aaf-da90dad337b6",
   "metadata": {},
   "outputs": [],
   "source": [
    "with open('Path to IEEE Taxonomy Text File', 'w') as f:\n",
    "    f.write(text)"
   ]
  },
  {
   "cell_type": "markdown",
   "id": "a8c37479-872e-4053-b6fa-425c405fdd17",
   "metadata": {},
   "source": [
    "# Functions"
   ]
  },
  {
   "cell_type": "code",
   "execution_count": 51,
   "id": "d9166892-f02c-4c2f-bde1-693c61bbe318",
   "metadata": {},
   "outputs": [],
   "source": [
    "def lower_case(topic:str)->str:\n",
    "    return topic.lower()\n",
    "\n",
    "def replace_char(topic:str)->str:\n",
    "    return topic.replace(\" \",\"_\")\n",
    "\n",
    "def eliminate_doublespace(topic:str)->str:\n",
    "    return topic.replace(\"  \",\" \")\n",
    "\n",
    "def clean_topic(topic:str)->str:\n",
    "    return topic.strip(\".\")\n",
    "\n",
    "def clean_label(topic:str)->str:\n",
    "    return topic.replace(\"_\",\" \")\n",
    "\n",
    "def escape(topic:str)->str:\n",
    "    return urllib.parse.quote(topic.encode('utf8'), safe='')"
   ]
  },
  {
   "cell_type": "markdown",
   "id": "0eacc6b0-b44d-4fee-8621-1d13f0a2ed3b",
   "metadata": {},
   "source": [
    "# Extracting Taxonomy from Text File"
   ]
  },
  {
   "cell_type": "code",
   "execution_count": 52,
   "id": "073c2423-8249-4e21-9523-7467c551f671",
   "metadata": {},
   "outputs": [],
   "source": [
    "txt_file = open(\"Path to IEEE Taxonomy Cleaned Text File\", \"r\")\n",
    "lines = txt_file.read().split(\"\\n\")"
   ]
  },
  {
   "cell_type": "code",
   "execution_count": 53,
   "id": "a92dbb76-9853-4686-878d-7cec4da2c81d",
   "metadata": {},
   "outputs": [
    {
     "name": "stdout",
     "output_type": "stream",
     "text": [
      "['Aerospace and electronic systems', '....Aerospace control', '........Air traffic control', '........Attitude control', '........Ground support', '....Aerospace engineering', '........Aerospace biophysics', '........Aerospace electronics', '........Aerospace safety', '............Air safety']\n"
     ]
    }
   ],
   "source": [
    "print(lines[:10])"
   ]
  },
  {
   "cell_type": "code",
   "execution_count": 54,
   "id": "10210c2b-409e-47cb-a0c4-3cedac222881",
   "metadata": {},
   "outputs": [],
   "source": [
    "ieee_taxonomy = defaultdict(lambda: {\"broader\": set(), \"narrower\": set()})"
   ]
  },
  {
   "cell_type": "code",
   "execution_count": 55,
   "id": "51133feb-4569-452d-833d-877bc6cff780",
   "metadata": {},
   "outputs": [],
   "source": [
    "positions_levels = [len(line) - len(line.lstrip('.')) for line in lines]\n",
    "parent_stack = []"
   ]
  },
  {
   "cell_type": "code",
   "execution_count": null,
   "id": "76f0f739",
   "metadata": {},
   "outputs": [],
   "source": [
    "# The hierarchy is represented by the number of dots at the beginning of the line and because the hierarchy is not always consistent in every release of the taxonomy, we use this approach to choose to select the best heuristic to represent the hierarchy\n",
    "tax_year = \"2024\""
   ]
  },
  {
   "cell_type": "code",
   "execution_count": null,
   "id": "ad7a42e1-89ec-4975-907c-9aadf6f26686",
   "metadata": {},
   "outputs": [],
   "source": [
    "for line_idx in range(len(lines)):\n",
    "    current_topic = eliminate_doublespace(lower_case(replace_char(clean_topic(lines[line_idx]))))\n",
    "    current_level = positions_levels[line_idx]\n",
    "\n",
    "    while parent_stack and parent_stack[-1][1] >= current_level:\n",
    "        parent_stack.pop()\n",
    "    \n",
    "    broader_topics = set()\n",
    "    if parent_stack:\n",
    "        for parent_topic, parent_level in parent_stack:\n",
    "            if tax_year == \"2024\":\n",
    "                if current_level == parent_level + 5:\n",
    "                    ieee_taxonomy[current_topic][\"broader\"].add(parent_topic)\n",
    "                    ieee_taxonomy[parent_topic][\"narrower\"].add(current_topic)\n",
    "                    broader_topics.add(parent_topic)\n",
    "                    broader_topics.update(ieee_taxonomy[parent_topic][\"broader\"])\n",
    "            else:\n",
    "                if current_level == parent_level + 4:\n",
    "                    ieee_taxonomy[current_topic][\"broader\"].add(parent_topic)\n",
    "                    ieee_taxonomy[parent_topic][\"narrower\"].add(current_topic)\n",
    "                    broader_topics.add(parent_topic)\n",
    "                    broader_topics.update(ieee_taxonomy[parent_topic][\"broader\"])\n",
    "                \n",
    "    ieee_taxonomy[current_topic][\"broader\"].update(broader_topics)\n",
    "    parent_stack.append((current_topic, current_level))"
   ]
  },
  {
   "cell_type": "code",
   "execution_count": 60,
   "id": "84cc7937-1962-4d41-b9c7-e9e7e321b30e",
   "metadata": {},
   "outputs": [
    {
     "name": "stdout",
     "output_type": "stream",
     "text": [
      "antenna_radiation_patterns:{'broader': {'antennas', 'antennas_and_propagation'}, 'narrower': {'near-field_radiation_pattern'}}\n"
     ]
    }
   ],
   "source": [
    "# inspection\n",
    "key = list(ieee_taxonomy.keys())[69]\n",
    "print(f\"{key}:{ieee_taxonomy[key]}\")"
   ]
  },
  {
   "cell_type": "markdown",
   "id": "955d9803-8798-4e60-b3e3-dbf0808794cd",
   "metadata": {},
   "source": [
    "# Creating RDF"
   ]
  },
  {
   "cell_type": "code",
   "execution_count": 61,
   "id": "54ae7ce7",
   "metadata": {},
   "outputs": [],
   "source": [
    "g = Graph()\n",
    "\n",
    "schema_url = \"https://ieee-taxonomy.org/\"\n",
    "topic_url = URIRef(f\"{str(schema_url)}schema#Topic\")\n",
    "\n",
    "ieee = Namespace(schema_url)\n",
    "g.bind(\"ieee\", ieee)\n",
    "g.bind(\"owl\", OWL)\n",
    "g.bind(\"skos\", SKOS)\n",
    "g.bind(\"rdf\", RDF)"
   ]
  },
  {
   "cell_type": "code",
   "execution_count": 62,
   "id": "49d4b1ea",
   "metadata": {},
   "outputs": [
    {
     "data": {
      "text/plain": [
       "<Graph identifier=N2d86601c31c14a84af56682ba05e0a2b (<class 'rdflib.graph.Graph'>)>"
      ]
     },
     "execution_count": 62,
     "metadata": {},
     "output_type": "execute_result"
    }
   ],
   "source": [
    "# adding definition of topic\n",
    "g.add((topic_url, RDF.type, OWL.Class))\n",
    "g.add((topic_url, RDFS.subClassOf, SKOS.Concept))"
   ]
  },
  {
   "cell_type": "code",
   "execution_count": 63,
   "id": "4e5d31cb-929e-4571-871a-e43fa22c5ae5",
   "metadata": {},
   "outputs": [],
   "source": [
    "for topic, relations in ieee_taxonomy.items():\n",
    "    __topic = URIRef(f\"{schema_url}{escape(topic)}\")\n",
    "    g.add((__topic, RDFS.label, Literal(clean_label(topic))))\n",
    "    g.add((__topic, RDF.type, topic_url))\n",
    "    \n",
    "    for broader in relations[\"broader\"]:\n",
    "        __broader = URIRef(f\"{schema_url}{escape(broader)}\")\n",
    "        g.add((__topic, SKOS.broader, __broader))\n",
    "        g.add((__broader, SKOS.narrower, __topic))\n",
    "    \n",
    "    for narrower in relations[\"narrower\"]:\n",
    "        __narrower = URIRef(f\"{schema_url}{escape(narrower)}\")\n",
    "        g.add((__narrower, SKOS.broader, __topic))\n",
    "        g.add((__topic, SKOS.narrower, __narrower))"
   ]
  },
  {
   "cell_type": "code",
   "execution_count": 64,
   "id": "ad89e501-12de-47f8-9eab-38a08b7d3d02",
   "metadata": {},
   "outputs": [],
   "source": [
    "rdf_formats = {\n",
    "    \"turtle\": \"ttl\",\n",
    "    \"nt\": \"nt\",\n",
    "    \"xml\": \"xml\"\n",
    "}"
   ]
  },
  {
   "cell_type": "code",
   "execution_count": 65,
   "id": "55fbbd4f-3b6b-4804-b1f0-a50de6aa15ba",
   "metadata": {},
   "outputs": [
    {
     "name": "stdout",
     "output_type": "stream",
     "text": [
      "---- Printing RDF versions ----\n",
      "Saved: ieee-taxonomy.ttl\n",
      "Saved: ieee-taxonomy.nt\n",
      "Saved: ieee-taxonomy.xml\n"
     ]
    }
   ],
   "source": [
    "print(\"---- Printing RDF versions ----\")\n",
    "for fmt, ext in rdf_formats.items():\n",
    "    g.serialize(destination=f'./rdf/ieee-taxonomy.{ext}', format=fmt)\n",
    "    print(f\"Saved: ieee-taxonomy.{ext}\")"
   ]
  },
  {
   "cell_type": "code",
   "execution_count": null,
   "id": "9b8fbc3b-ce70-4573-b238-0417bd209d89",
   "metadata": {},
   "outputs": [],
   "source": []
  }
 ],
 "metadata": {
  "kernelspec": {
   "display_name": "Python 3 (ipykernel)",
   "language": "python",
   "name": "python3"
  },
  "language_info": {
   "codemirror_mode": {
    "name": "ipython",
    "version": 3
   },
   "file_extension": ".py",
   "mimetype": "text/x-python",
   "name": "python",
   "nbconvert_exporter": "python",
   "pygments_lexer": "ipython3",
   "version": "3.12.0"
  }
 },
 "nbformat": 4,
 "nbformat_minor": 5
}
