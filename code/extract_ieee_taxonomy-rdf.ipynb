{
 "cells": [
  {
   "cell_type": "markdown",
   "id": "c58fd3f9-9943-4fc8-a5de-5c06b348150b",
   "metadata": {},
   "source": [
    "# Installing needed Libraries"
   ]
  },
  {
   "cell_type": "markdown",
   "id": "1831d7b2-9702-43c1-8104-cbc3c744a12e",
   "metadata": {},
   "source": [
    "##### This will install rdflib to create the rdf version of the IEEE Taxonomy"
   ]
  },
  {
   "cell_type": "code",
   "execution_count": null,
   "id": "a48fa47a-f270-41e7-af99-dd652ffe7a3f",
   "metadata": {},
   "outputs": [],
   "source": [
    "!pip install rdflib==6.3.1"
   ]
  },
  {
   "cell_type": "markdown",
   "id": "d8310637-f609-4ae3-99bd-ba292e4f828e",
   "metadata": {},
   "source": [
    "##### This will install PyPDF2 to extract text from IEEE Taxonomy PDF file\n",
    "\n",
    "###### Note: After extracting the text from IEEE Taxonomy PDF file it has been manually analyzed to eliminate any possible errors and to obtain a clean text file of IEEE Taxonomy"
   ]
  },
  {
   "cell_type": "code",
   "execution_count": null,
   "id": "a3ce3881-9d0e-495d-9c96-34f6e255039e",
   "metadata": {},
   "outputs": [],
   "source": [
    "!pip install PyPDF2==3.0.1"
   ]
  },
  {
   "cell_type": "markdown",
   "id": "fdadf29e-dd70-4851-bc17-735d21839849",
   "metadata": {},
   "source": [
    "# Importing"
   ]
  },
  {
   "cell_type": "code",
   "execution_count": 2,
   "id": "dd864a56-be84-4a07-b0d8-7bfdc0672714",
   "metadata": {},
   "outputs": [],
   "source": [
    "import re\n",
    "import json\n",
    "import urllib3\n",
    "from PyPDF2 import PdfReader\n",
    "import urllib.parse\n",
    "from rdflib import Graph, Literal, RDF, URIRef, Namespace, RDFS, namespace\n",
    "from rdflib.namespace import FOAF, XSD, SKOS, OWL, RDFS"
   ]
  },
  {
   "cell_type": "markdown",
   "id": "c8db8da5-261e-4992-bdcc-d669dd493473",
   "metadata": {},
   "source": [
    "#### Processing IEEE Taxonomy PDF File and extracting text from it"
   ]
  },
  {
   "cell_type": "code",
   "execution_count": 24,
   "id": "a900c4a7-8f15-485a-84fa-a30a6716929b",
   "metadata": {},
   "outputs": [],
   "source": [
    "input_file = 'Path to IEEE Taxonomy PDF File'"
   ]
  },
  {
   "cell_type": "code",
   "execution_count": 5,
   "id": "749c34eb-31de-4d01-8a9a-46b046a6147b",
   "metadata": {},
   "outputs": [],
   "source": [
    "reader = PdfReader(input_file)"
   ]
  },
  {
   "cell_type": "code",
   "execution_count": 6,
   "id": "9072ea7c-6f75-4d3c-90a3-e478ce7ba235",
   "metadata": {},
   "outputs": [],
   "source": [
    "text = \"\"\n",
    "\n",
    "for page in reader.pages:\n",
    "    text += page.extract_text() + \"\\n\""
   ]
  },
  {
   "cell_type": "code",
   "execution_count": 33,
   "id": "1c71e3be-9866-4cf5-8aaf-da90dad337b6",
   "metadata": {},
   "outputs": [],
   "source": [
    "with open('Path to IEEE Taxonomy Text File', 'w') as f:\n",
    "    f.write(text)"
   ]
  },
  {
   "cell_type": "markdown",
   "id": "a8c37479-872e-4053-b6fa-425c405fdd17",
   "metadata": {},
   "source": [
    "# Functions"
   ]
  },
  {
   "cell_type": "code",
   "execution_count": 7,
   "id": "d9166892-f02c-4c2f-bde1-693c61bbe318",
   "metadata": {},
   "outputs": [],
   "source": [
    "def lower_case(topic:str)->str:\n",
    "    return topic.lower()\n",
    "\n",
    "def replace_char(topic:str)->str:\n",
    "    return topic.replace(\" \",\"_\")\n",
    "\n",
    "def clean_topic(topic:str)->str:\n",
    "    return topic.strip(\".\")\n",
    "\n",
    "def get_level_of_topic(topic:str)->str:\n",
    "    count=0\n",
    "    while topic[count]==\".\":\n",
    "        count+=1\n",
    "    return count\n",
    "\n",
    "def check_position_levels(positions_levels:list)->bool:\n",
    "    for level in positions_levels:\n",
    "        if level % 4 != 0:\n",
    "            return True\n",
    "    return False\n",
    "\n",
    "def clean_label(topic:str)->str:\n",
    "    return topic.replace(\"_\",\" \")\n",
    "\n",
    "def escape(topic:str)->str:\n",
    "    return urllib.parse.quote(topic.encode('utf8'), safe='')"
   ]
  },
  {
   "cell_type": "markdown",
   "id": "0eacc6b0-b44d-4fee-8621-1d13f0a2ed3b",
   "metadata": {},
   "source": [
    "# Extracting Taxonomy from Text File"
   ]
  },
  {
   "cell_type": "code",
   "execution_count": 8,
   "id": "073c2423-8249-4e21-9523-7467c551f671",
   "metadata": {},
   "outputs": [],
   "source": [
    "txt_file = open(\"Path to IEEE Taxonomy Cleaned Text File\", \"r\")\n",
    "lines = txt_file.read().split(\"\\n\")"
   ]
  },
  {
   "cell_type": "code",
   "execution_count": 9,
   "id": "305ba061-56d5-4857-85db-998f7c6979c4",
   "metadata": {},
   "outputs": [
    {
     "name": "stdout",
     "output_type": "stream",
     "text": [
      "All levels are well formatted!\n"
     ]
    }
   ],
   "source": [
    "# Checking levels\n",
    "positions_levels = list()\n",
    "for line in lines:\n",
    "    level = get_level_of_topic(line)\n",
    "    positions_levels.append(level)\n",
    "    \n",
    "    \n",
    "if check_position_levels(positions_levels):\n",
    "    print(\"Misalignment between levels. Check the input file\")\n",
    "else:\n",
    "    print(\"All levels are well formatted!\")"
   ]
  },
  {
   "cell_type": "code",
   "execution_count": 10,
   "id": "3b3716c0-48a5-468a-8fde-db4a98cb7dd3",
   "metadata": {},
   "outputs": [],
   "source": [
    "ieee_taxonomy = dict()\n",
    "for line in range(len(lines)):\n",
    "    children = list()    \n",
    "    for following_line in range(line+1, len(lines)):\n",
    "        if positions_levels[following_line] <= positions_levels[line]:\n",
    "            break\n",
    "        elif positions_levels[following_line] == positions_levels[line]+4:\n",
    "            children.append(lower_case(replace_char(clean_topic(lines[following_line]))))\n",
    "        else:\n",
    "            pass\n",
    "            \n",
    "    if len(children) > 0:\n",
    "        ieee_taxonomy[lower_case(replace_char(clean_topic(lines[line])))] = children"
   ]
  },
  {
   "cell_type": "code",
   "execution_count": 11,
   "id": "84cc7937-1962-4d41-b9c7-e9e7e321b30e",
   "metadata": {},
   "outputs": [
    {
     "name": "stdout",
     "output_type": "stream",
     "text": [
      "aerospace_and_electronic_systems:['aerospace_control', 'aerospace_engineering', 'aerospace_materials', 'aircraft_manufacture', 'aircraft_navigation', 'aircraft_propulsion', 'command_and_control_systems', 'electronic_warfare', 'military_equipment', 'sensor_systems', 'sonar', 'telemetry']\n"
     ]
    }
   ],
   "source": [
    "# inspection\n",
    "key = list(ieee_taxonomy.keys())[0]\n",
    "print(f\"{key}:{ieee_taxonomy[key]}\")"
   ]
  },
  {
   "cell_type": "markdown",
   "id": "955d9803-8798-4e60-b3e3-dbf0808794cd",
   "metadata": {},
   "source": [
    "# Creating RDF"
   ]
  },
  {
   "cell_type": "code",
   "execution_count": 17,
   "id": "54ae7ce7",
   "metadata": {},
   "outputs": [],
   "source": [
    "g = Graph()\n",
    "\n",
    "schema_url = \"https://ieee-taxonomy.org/\"\n",
    "topic_url = URIRef(f\"{str(schema_url)}schema#Topic\")\n",
    "\n",
    "ieee = Namespace(schema_url)\n",
    "g.bind(\"ieee\", ieee)\n",
    "g.bind(\"owl\", OWL)\n",
    "g.bind(\"skos\", SKOS)\n",
    "g.bind(\"rdf\", RDF)"
   ]
  },
  {
   "cell_type": "code",
   "execution_count": null,
   "id": "49d4b1ea",
   "metadata": {},
   "outputs": [],
   "source": [
    "# adding definition of topic\n",
    "g.add((topic_url, RDF.type, OWL.Class))\n",
    "g.add((topic_url, RDFS.subClassOf, SKOS.Concept))"
   ]
  },
  {
   "cell_type": "code",
   "execution_count": 19,
   "id": "649b23dd-3bcb-42e6-b475-f063256e6d14",
   "metadata": {},
   "outputs": [],
   "source": [
    "for topic, subtopics in ieee_taxonomy.items():\n",
    "    \n",
    "    __topic = URIRef(f\"{schema_url}{escape(topic)}\")\n",
    "    g.add([__topic, RDFS.label, Literal(clean_label(topic))])\n",
    "    g.add((__topic, RDF.type, topic_url))\n",
    "    \n",
    "    for subtopic in subtopics:\n",
    "\n",
    "        __subtopic = URIRef(f\"{schema_url}{escape(subtopic)}\")\n",
    "        g.add([__subtopic, RDFS.label, Literal(clean_label(subtopic))])\n",
    "        g.add((__subtopic, RDF.type, topic_url))\n",
    "\n",
    "        g.add((__subtopic, SKOS.broader, __topic))\n",
    "        g.add((__topic, SKOS.narrower, __subtopic))      "
   ]
  },
  {
   "cell_type": "code",
   "execution_count": 25,
   "id": "4227ea4e",
   "metadata": {},
   "outputs": [
    {
     "name": "stdout",
     "output_type": "stream",
     "text": [
      "--- printing rdf versions\n"
     ]
    }
   ],
   "source": [
    "print(\"--- printing rdf versions\")\n",
    "g.serialize(destination='./rdf/ieee-taxonomy.ttl')\n",
    "g.serialize(destination='./rdf/ieee-taxonomy.nt', format=\"nt\")\n",
    "g.serialize(destination='./rdf/ieee-taxonomy.xml', format=\"xml\")"
   ]
  },
  {
   "cell_type": "code",
   "execution_count": null,
   "id": "e00aabf9",
   "metadata": {},
   "outputs": [],
   "source": [
    "# g.serialize(destination='./rdf/ieee-taxonomy.jsonld', format='json-ld', indent=4)"
   ]
  },
  {
   "cell_type": "code",
   "execution_count": null,
   "id": "9b8fbc3b-ce70-4573-b238-0417bd209d89",
   "metadata": {},
   "outputs": [],
   "source": []
  }
 ],
 "metadata": {
  "kernelspec": {
   "display_name": "Python 3 (ipykernel)",
   "language": "python",
   "name": "python3"
  },
  "language_info": {
   "codemirror_mode": {
    "name": "ipython",
    "version": 3
   },
   "file_extension": ".py",
   "mimetype": "text/x-python",
   "name": "python",
   "nbconvert_exporter": "python",
   "pygments_lexer": "ipython3",
   "version": "3.12.0"
  }
 },
 "nbformat": 4,
 "nbformat_minor": 5
}
