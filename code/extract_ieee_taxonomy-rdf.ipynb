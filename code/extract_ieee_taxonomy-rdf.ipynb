{
 "cells": [
  {
   "cell_type": "markdown",
   "id": "a73680b0",
   "metadata": {},
   "source": [
    "# Installing needed Libraries\n",
    "This will install rdflib to create the rdf version of the IEEE Taxonomy"
   ]
  },
  {
   "cell_type": "code",
   "execution_count": null,
   "id": "3d11a4b2-35eb-4361-a982-d149f9047576",
   "metadata": {},
   "outputs": [],
   "source": [
    "!pip install rdflib==6.3.1"
   ]
  },
  {
   "cell_type": "markdown",
   "id": "8fcb593c",
   "metadata": {},
   "source": [
    "# Importing"
   ]
  },
  {
   "cell_type": "code",
   "execution_count": 1,
   "id": "dd864a56-be84-4a07-b0d8-7bfdc0672714",
   "metadata": {},
   "outputs": [],
   "source": [
    "import json\n",
    "from rdflib import Graph, Literal, RDF, URIRef, Namespace, RDFS, namespace\n",
    "from rdflib.namespace import FOAF, XSD, SKOS, OWL, RDFS\n",
    "import urllib.parse"
   ]
  },
  {
   "cell_type": "markdown",
   "id": "ecf7744f",
   "metadata": {},
   "source": [
    "# Functions"
   ]
  },
  {
   "cell_type": "code",
   "execution_count": 2,
   "id": "d9166892-f02c-4c2f-bde1-693c61bbe318",
   "metadata": {},
   "outputs": [],
   "source": [
    "def lower_case(topic:str)->str:\n",
    "    return topic.lower()\n",
    "\n",
    "def replace_char(topic:str)->str:\n",
    "    return topic.replace(\" \",\"_\")\n",
    "\n",
    "def clean_topic(topic:str)->str:\n",
    "    return topic.strip(\".\")\n",
    "\n",
    "def get_level_of_topic(topic:str)->str:\n",
    "    count=0\n",
    "    while topic[count]==\".\":\n",
    "        count+=1\n",
    "    return count\n",
    "\n",
    "def check_position_levels(positions_levels:list)->bool:\n",
    "    for level in positions_levels:\n",
    "        if level % 4 != 0:\n",
    "            return True\n",
    "    return False\n",
    "\n",
    "def clean_label(topic:str)->str:\n",
    "    return topic.replace(\"_\",\" \")\n",
    "\n",
    "def escape(topic:str)->str:\n",
    "    return urllib.parse.quote(topic.encode('utf8'), safe='')"
   ]
  },
  {
   "cell_type": "markdown",
   "id": "968ea709",
   "metadata": {},
   "source": [
    "# Extracting taxonomy from file"
   ]
  },
  {
   "cell_type": "code",
   "execution_count": 3,
   "id": "073c2423-8249-4e21-9523-7467c551f671",
   "metadata": {},
   "outputs": [],
   "source": [
    "txt_file = open(\"../source/ieee-taxonomy.txt\", \"r\")\n",
    "lines = txt_file.read().split(\"\\n\")"
   ]
  },
  {
   "cell_type": "code",
   "execution_count": 4,
   "id": "305ba061-56d5-4857-85db-998f7c6979c4",
   "metadata": {},
   "outputs": [
    {
     "name": "stdout",
     "output_type": "stream",
     "text": [
      "All levels are well formatted!\n"
     ]
    }
   ],
   "source": [
    "# Checking levels\n",
    "positions_levels = list()\n",
    "for line in lines:\n",
    "    level = get_level_of_topic(line)\n",
    "    positions_levels.append(level)\n",
    "    \n",
    "    \n",
    "if check_position_levels(positions_levels):\n",
    "    print(\"Misalignment between levels. Check the input file\")\n",
    "else:\n",
    "    print(\"All levels are well formatted!\")"
   ]
  },
  {
   "cell_type": "code",
   "execution_count": 5,
   "id": "3b3716c0-48a5-468a-8fde-db4a98cb7dd3",
   "metadata": {},
   "outputs": [],
   "source": [
    "ieee_taxonomy = dict()\n",
    "for line in range(len(lines)):\n",
    "    children = list()    \n",
    "    for following_line in range(line+1, len(lines)):\n",
    "        if positions_levels[following_line] <= positions_levels[line]:\n",
    "            break\n",
    "        elif positions_levels[following_line] == positions_levels[line]+4:\n",
    "            children.append(lower_case(replace_char(clean_topic(lines[following_line]))))\n",
    "        else:\n",
    "            pass\n",
    "            \n",
    "    if len(children) > 0:\n",
    "        ieee_taxonomy[lower_case(replace_char(clean_topic(lines[line])))] = children"
   ]
  },
  {
   "cell_type": "code",
   "execution_count": 6,
   "id": "84cc7937-1962-4d41-b9c7-e9e7e321b30e",
   "metadata": {},
   "outputs": [
    {
     "name": "stdout",
     "output_type": "stream",
     "text": [
      "aerospace_and_electronic_systems:['aerospace_control', 'aerospace_engineering', 'aerospace_materials', 'aircraft_manufacture', 'aircraft_navigation', 'aircraft_propulsion', 'command_and_control_systems', 'electronic_warfare', 'military_equipment', 'radar', 'sensor_systems', 'sonar', 'telemetry']\n"
     ]
    }
   ],
   "source": [
    "# inspection\n",
    "key = list(ieee_taxonomy.keys())[0]\n",
    "print(f\"{key}:{ieee_taxonomy[key]}\")"
   ]
  },
  {
   "cell_type": "markdown",
   "id": "82cf6187",
   "metadata": {},
   "source": [
    "# Creating RDF"
   ]
  },
  {
   "cell_type": "code",
   "execution_count": 7,
   "id": "54ae7ce7",
   "metadata": {},
   "outputs": [],
   "source": [
    "g = Graph()\n",
    "\n",
    "schema_url = \"https://ieee-taxonomy.org/\"\n",
    "topic_url = URIRef(f\"{str(schema_url)}schema#Topic\")\n",
    "\n",
    "ieee = Namespace(schema_url)\n",
    "g.bind(\"ieee\", ieee)\n",
    "g.bind(\"owl\", OWL)\n",
    "g.bind(\"skos\", SKOS)\n",
    "g.bind(\"rdf\", RDF)"
   ]
  },
  {
   "cell_type": "code",
   "execution_count": 8,
   "id": "49d4b1ea",
   "metadata": {},
   "outputs": [],
   "source": [
    "# adding definition of topic\n",
    "g.add((topic_url, RDF.type, OWL.Class))\n",
    "g.add((topic_url, RDFS.subClassOf, SKOS.Concept))"
   ]
  },
  {
   "cell_type": "code",
   "execution_count": 9,
   "id": "649b23dd-3bcb-42e6-b475-f063256e6d14",
   "metadata": {},
   "outputs": [],
   "source": [
    "for topic, subtopics in ieee_taxonomy.items():\n",
    "    \n",
    "    __topic = URIRef(f\"{schema_url}{escape(topic)}\")\n",
    "    g.add([__topic, RDFS.label, Literal(clean_label(topic))])\n",
    "    g.add((__topic, RDF.type, topic_url))\n",
    "    \n",
    "    for subtopic in subtopics:\n",
    "\n",
    "        __subtopic = URIRef(f\"{schema_url}{escape(subtopic)}\")\n",
    "        g.add([__subtopic, RDFS.label, Literal(clean_label(subtopic))])\n",
    "        g.add((__subtopic, RDF.type, topic_url))\n",
    "\n",
    "        g.add((__subtopic, SKOS.broader, __topic))\n",
    "        g.add((__topic, SKOS.narrower, __subtopic))      "
   ]
  },
  {
   "cell_type": "code",
   "execution_count": 10,
   "id": "4227ea4e",
   "metadata": {},
   "outputs": [
    {
     "name": "stdout",
     "output_type": "stream",
     "text": [
      "--- printing rdf versions\n"
     ]
    }
   ],
   "source": [
    "print(\"--- printing rdf versions\")\n",
    "g.serialize(destination='../rdf/ieee-taxonomy.ttl')\n",
    "g.serialize(destination='../rdf/ieee-taxonomy.nt', format=\"nt\")\n",
    "g.serialize(destination='../rdf/ieee-taxonomy.xml', format=\"xml\")\n",
    "# g.serialize(destination='../rdf/ieee-taxonomy.jsonld', format='json-ld', indent=4)"
   ]
  },
  {
   "cell_type": "code",
   "execution_count": null,
   "id": "e00aabf9",
   "metadata": {},
   "outputs": [],
   "source": []
  }
 ],
 "metadata": {
  "kernelspec": {
   "display_name": "Python 3 (ipykernel)",
   "language": "python",
   "name": "python3"
  },
  "language_info": {
   "codemirror_mode": {
    "name": "ipython",
    "version": 3
   },
   "file_extension": ".py",
   "mimetype": "text/x-python",
   "name": "python",
   "nbconvert_exporter": "python",
   "pygments_lexer": "ipython3",
   "version": "3.7.5"
  }
 },
 "nbformat": 4,
 "nbformat_minor": 5
}
